{
 "cells": [
  {
   "cell_type": "markdown",
   "id": "3eeaae9c",
   "metadata": {},
   "source": [
    "# Demo: QuantumProgram Class"
   ]
  },
  {
   "cell_type": "code",
   "execution_count": 9,
   "id": "c68758f1",
   "metadata": {},
   "outputs": [],
   "source": [
    "from src.sbo.src._problems.quadratic_program import QuadraticProgram"
   ]
  },
  {
   "cell_type": "markdown",
   "id": "34608426",
   "metadata": {},
   "source": [
    "Create instance of `QuantumProgram` class, load the `.lp` file, and convert to QUBO"
   ]
  },
  {
   "cell_type": "code",
   "execution_count": 11,
   "id": "4b247d4a",
   "metadata": {},
   "outputs": [
    {
     "name": "stdout",
     "output_type": "stream",
     "text": [
      "Requirement already satisfied: qiskit-optimization[cplex] in /Users/andrypaez/Library/Caches/pypoetry/virtualenvs/wiser-optimization-vg-W4LZhpIq-py3.12/lib/python3.12/site-packages (0.6.1)\n",
      "Requirement already satisfied: qiskit>=0.44 in /Users/andrypaez/Library/Caches/pypoetry/virtualenvs/wiser-optimization-vg-W4LZhpIq-py3.12/lib/python3.12/site-packages (from qiskit-optimization[cplex]) (1.4.3)\n",
      "Requirement already satisfied: qiskit-algorithms>=0.2.0 in /Users/andrypaez/Library/Caches/pypoetry/virtualenvs/wiser-optimization-vg-W4LZhpIq-py3.12/lib/python3.12/site-packages (from qiskit-optimization[cplex]) (0.3.1)\n",
      "Requirement already satisfied: scipy>=1.9.0 in /Users/andrypaez/Library/Caches/pypoetry/virtualenvs/wiser-optimization-vg-W4LZhpIq-py3.12/lib/python3.12/site-packages (from qiskit-optimization[cplex]) (1.16.1)\n",
      "Requirement already satisfied: numpy>=1.17 in /Users/andrypaez/Library/Caches/pypoetry/virtualenvs/wiser-optimization-vg-W4LZhpIq-py3.12/lib/python3.12/site-packages (from qiskit-optimization[cplex]) (2.3.2)\n",
      "Requirement already satisfied: docplex!=2.24.231,>=2.21.207 in /Users/andrypaez/Library/Caches/pypoetry/virtualenvs/wiser-optimization-vg-W4LZhpIq-py3.12/lib/python3.12/site-packages (from qiskit-optimization[cplex]) (2.30.251)\n",
      "Requirement already satisfied: setuptools>=40.1.0 in /Users/andrypaez/Library/Caches/pypoetry/virtualenvs/wiser-optimization-vg-W4LZhpIq-py3.12/lib/python3.12/site-packages (from qiskit-optimization[cplex]) (75.9.1)\n",
      "Requirement already satisfied: networkx>=2.6.3 in /Users/andrypaez/Library/Caches/pypoetry/virtualenvs/wiser-optimization-vg-W4LZhpIq-py3.12/lib/python3.12/site-packages (from qiskit-optimization[cplex]) (3.5)\n",
      "Requirement already satisfied: six in /Users/andrypaez/Library/Caches/pypoetry/virtualenvs/wiser-optimization-vg-W4LZhpIq-py3.12/lib/python3.12/site-packages (from docplex!=2.24.231,>=2.21.207->qiskit-optimization[cplex]) (1.17.0)\n",
      "Requirement already satisfied: rustworkx>=0.15.0 in /Users/andrypaez/Library/Caches/pypoetry/virtualenvs/wiser-optimization-vg-W4LZhpIq-py3.12/lib/python3.12/site-packages (from qiskit>=0.44->qiskit-optimization[cplex]) (0.15.1)\n",
      "Requirement already satisfied: sympy>=1.3 in /Users/andrypaez/Library/Caches/pypoetry/virtualenvs/wiser-optimization-vg-W4LZhpIq-py3.12/lib/python3.12/site-packages (from qiskit>=0.44->qiskit-optimization[cplex]) (1.14.0)\n",
      "Requirement already satisfied: dill>=0.3 in /Users/andrypaez/Library/Caches/pypoetry/virtualenvs/wiser-optimization-vg-W4LZhpIq-py3.12/lib/python3.12/site-packages (from qiskit>=0.44->qiskit-optimization[cplex]) (0.3.9)\n",
      "Requirement already satisfied: python-dateutil>=2.8.0 in /Users/andrypaez/Library/Caches/pypoetry/virtualenvs/wiser-optimization-vg-W4LZhpIq-py3.12/lib/python3.12/site-packages (from qiskit>=0.44->qiskit-optimization[cplex]) (2.9.0.post0)\n",
      "Requirement already satisfied: stevedore>=3.0.0 in /Users/andrypaez/Library/Caches/pypoetry/virtualenvs/wiser-optimization-vg-W4LZhpIq-py3.12/lib/python3.12/site-packages (from qiskit>=0.44->qiskit-optimization[cplex]) (5.4.1)\n",
      "Requirement already satisfied: typing-extensions in /Users/andrypaez/Library/Caches/pypoetry/virtualenvs/wiser-optimization-vg-W4LZhpIq-py3.12/lib/python3.12/site-packages (from qiskit>=0.44->qiskit-optimization[cplex]) (4.14.1)\n",
      "Requirement already satisfied: symengine<0.14,>=0.11 in /Users/andrypaez/Library/Caches/pypoetry/virtualenvs/wiser-optimization-vg-W4LZhpIq-py3.12/lib/python3.12/site-packages (from qiskit>=0.44->qiskit-optimization[cplex]) (0.13.0)\n",
      "Requirement already satisfied: pbr>=2.0.0 in /Users/andrypaez/Library/Caches/pypoetry/virtualenvs/wiser-optimization-vg-W4LZhpIq-py3.12/lib/python3.12/site-packages (from stevedore>=3.0.0->qiskit>=0.44->qiskit-optimization[cplex]) (6.1.1)\n",
      "Requirement already satisfied: mpmath<1.4,>=1.1.0 in /Users/andrypaez/Library/Caches/pypoetry/virtualenvs/wiser-optimization-vg-W4LZhpIq-py3.12/lib/python3.12/site-packages (from sympy>=1.3->qiskit>=0.44->qiskit-optimization[cplex]) (1.3.0)\n"
     ]
    },
    {
     "ename": "MissingOptionalLibraryError",
     "evalue": "\"The 'CPLEX' library is required to use 'QuadraticProgram.read_from_lp_file'. You can install it with 'pip install 'qiskit-optimization[cplex]''.\"",
     "output_type": "error",
     "traceback": [
      "\u001b[0;31m---------------------------------------------------------------------------\u001b[0m",
      "\u001b[0;31mMissingOptionalLibraryError\u001b[0m               Traceback (most recent call last)",
      "Cell \u001b[0;32mIn[11], line 4\u001b[0m\n\u001b[1;32m      1\u001b[0m get_ipython()\u001b[38;5;241m.\u001b[39msystem(\u001b[38;5;124m\"\u001b[39m\u001b[38;5;124mpip install \u001b[39m\u001b[38;5;124m'\u001b[39m\u001b[38;5;124mqiskit-optimization[cplex]\u001b[39m\u001b[38;5;124m'\u001b[39m\u001b[38;5;124m\"\u001b[39m)\n\u001b[1;32m      2\u001b[0m qp \u001b[38;5;241m=\u001b[39m QuadraticProgram()\n\u001b[0;32m----> 4\u001b[0m \u001b[43mqp\u001b[49m\u001b[38;5;241;43m.\u001b[39;49m\u001b[43mread_from_lp_file\u001b[49m\u001b[43m(\u001b[49m\u001b[38;5;124;43m\"\u001b[39;49m\u001b[38;5;124;43mdata/1/full/docplex-orig.lp\u001b[39;49m\u001b[38;5;124;43m\"\u001b[39;49m\u001b[43m)\u001b[49m\n\u001b[1;32m      5\u001b[0m \u001b[38;5;28mprint\u001b[39m(qp\u001b[38;5;241m.\u001b[39mprettyprint())\n",
      "File \u001b[0;32m~/Library/Caches/pypoetry/virtualenvs/wiser-optimization-vg-W4LZhpIq-py3.12/lib/python3.12/site-packages/qiskit/utils/lazy_tester.py:164\u001b[0m, in \u001b[0;36mLazyDependencyManager.require_in_call.<locals>.out\u001b[0;34m(*args, **kwargs)\u001b[0m\n\u001b[1;32m    162\u001b[0m \u001b[38;5;129m@functools\u001b[39m\u001b[38;5;241m.\u001b[39mwraps(function)\n\u001b[1;32m    163\u001b[0m \u001b[38;5;28;01mdef\u001b[39;00m\u001b[38;5;250m \u001b[39m\u001b[38;5;21mout\u001b[39m(\u001b[38;5;241m*\u001b[39margs, \u001b[38;5;241m*\u001b[39m\u001b[38;5;241m*\u001b[39mkwargs):\n\u001b[0;32m--> 164\u001b[0m     \u001b[38;5;28;43mself\u001b[39;49m\u001b[38;5;241;43m.\u001b[39;49m\u001b[43mrequire_now\u001b[49m\u001b[43m(\u001b[49m\u001b[43mfeature\u001b[49m\u001b[43m)\u001b[49m\n\u001b[1;32m    165\u001b[0m     \u001b[38;5;28;01mreturn\u001b[39;00m function(\u001b[38;5;241m*\u001b[39margs, \u001b[38;5;241m*\u001b[39m\u001b[38;5;241m*\u001b[39mkwargs)\n",
      "File \u001b[0;32m~/Library/Caches/pypoetry/virtualenvs/wiser-optimization-vg-W4LZhpIq-py3.12/lib/python3.12/site-packages/qiskit/utils/lazy_tester.py:221\u001b[0m, in \u001b[0;36mLazyDependencyManager.require_now\u001b[0;34m(self, feature)\u001b[0m\n\u001b[1;32m    219\u001b[0m \u001b[38;5;28;01mif\u001b[39;00m \u001b[38;5;28mself\u001b[39m:\n\u001b[1;32m    220\u001b[0m     \u001b[38;5;28;01mreturn\u001b[39;00m\n\u001b[0;32m--> 221\u001b[0m \u001b[38;5;28;01mraise\u001b[39;00m MissingOptionalLibraryError(\n\u001b[1;32m    222\u001b[0m     libname\u001b[38;5;241m=\u001b[39m\u001b[38;5;28mself\u001b[39m\u001b[38;5;241m.\u001b[39m_name, name\u001b[38;5;241m=\u001b[39mfeature, pip_install\u001b[38;5;241m=\u001b[39m\u001b[38;5;28mself\u001b[39m\u001b[38;5;241m.\u001b[39m_install, msg\u001b[38;5;241m=\u001b[39m\u001b[38;5;28mself\u001b[39m\u001b[38;5;241m.\u001b[39m_msg\n\u001b[1;32m    223\u001b[0m )\n",
      "\u001b[0;31mMissingOptionalLibraryError\u001b[0m: \"The 'CPLEX' library is required to use 'QuadraticProgram.read_from_lp_file'. You can install it with 'pip install 'qiskit-optimization[cplex]''.\""
     ]
    }
   ],
   "source": [
    "!pip install 'qiskit-optimization[cplex]' \n",
    "qp = QuadraticProgram()\n",
    "\n",
    "qp.read_from_lp_file(\"data/1/full/docplex-orig.lp\")\n",
    "print(qp.prettyprint())\n"
   ]
  },
  {
   "cell_type": "code",
   "execution_count": null,
   "id": "31469f00",
   "metadata": {},
   "outputs": [],
   "source": []
  }
 ],
 "metadata": {
  "kernelspec": {
   "display_name": "wiser-optimization-vg-W4LZhpIq-py3.12",
   "language": "python",
   "name": "python3"
  },
  "language_info": {
   "codemirror_mode": {
    "name": "ipython",
    "version": 3
   },
   "file_extension": ".py",
   "mimetype": "text/x-python",
   "name": "python",
   "nbconvert_exporter": "python",
   "pygments_lexer": "ipython3",
   "version": "3.12.2"
  }
 },
 "nbformat": 4,
 "nbformat_minor": 5
}
