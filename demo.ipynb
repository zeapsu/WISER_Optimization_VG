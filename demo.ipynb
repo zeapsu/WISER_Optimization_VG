{
 "cells": [
  {
   "cell_type": "markdown",
   "id": "3eeaae9c",
   "metadata": {},
   "source": [
    "# Demo: QuantumProgram Class"
   ]
  },
  {
   "cell_type": "code",
   "execution_count": 2,
   "id": "c68758f1",
   "metadata": {},
   "outputs": [],
   "source": [
    "from src.sbo.src._problems.quadratic_program import QuadraticProgram"
   ]
  },
  {
   "cell_type": "markdown",
   "id": "34608426",
   "metadata": {},
   "source": [
    "Create instance of `QuantumProgram` class, load the `.lp` file, and convert to QUBO"
   ]
  },
  {
   "cell_type": "code",
   "execution_count": 3,
   "id": "4b247d4a",
   "metadata": {},
   "outputs": [
    {
     "ename": "ModuleNotFoundError",
     "evalue": "No module named 'src._translators'",
     "output_type": "error",
     "traceback": [
      "\u001b[0;31m---------------------------------------------------------------------------\u001b[0m",
      "\u001b[0;31mModuleNotFoundError\u001b[0m                       Traceback (most recent call last)",
      "Cell \u001b[0;32mIn[3], line 5\u001b[0m\n\u001b[1;32m      2\u001b[0m qp \u001b[38;5;241m=\u001b[39m QuadraticProgram()\n\u001b[1;32m      4\u001b[0m qp\u001b[38;5;241m.\u001b[39mread_from_lp_file(\u001b[38;5;124m\"\u001b[39m\u001b[38;5;124mdata/1/full/docplex-orig.lp\u001b[39m\u001b[38;5;124m\"\u001b[39m)\n\u001b[0;32m----> 5\u001b[0m \u001b[38;5;28mprint\u001b[39m(\u001b[43mqp\u001b[49m\u001b[38;5;241;43m.\u001b[39;49m\u001b[43mprettyprint\u001b[49m\u001b[43m(\u001b[49m\u001b[43m)\u001b[49m)\n\u001b[1;32m      7\u001b[0m qubit_op, offset \u001b[38;5;241m=\u001b[39m qp\u001b[38;5;241m.\u001b[39mto_ising()\n\u001b[1;32m      8\u001b[0m \u001b[38;5;28mprint\u001b[39m(qubit_op)\n",
      "File \u001b[0;32m~/projects/WISER_Optimization_VG/src/sbo/src/_problems/quadratic_program.py:1144\u001b[0m, in \u001b[0;36mQuadraticProgram.prettyprint\u001b[0;34m(self, wrap)\u001b[0m\n\u001b[1;32m   1130\u001b[0m \u001b[38;5;250m\u001b[39m\u001b[38;5;124;03m\"\"\"Returns a pretty printed string of this problem.\u001b[39;00m\n\u001b[1;32m   1131\u001b[0m \n\u001b[1;32m   1132\u001b[0m \u001b[38;5;124;03mArgs:\u001b[39;00m\n\u001b[0;32m   (...)\u001b[0m\n\u001b[1;32m   1141\u001b[0m \u001b[38;5;124;03m    QiskitOptimizationError: if there is a non-printable name.\u001b[39;00m\n\u001b[1;32m   1142\u001b[0m \u001b[38;5;124;03m\"\"\"\u001b[39;00m\n\u001b[1;32m   1143\u001b[0m \u001b[38;5;66;03m# pylint: disable=cyclic-import\u001b[39;00m\n\u001b[0;32m-> 1144\u001b[0m \u001b[38;5;28;01mfrom\u001b[39;00m\u001b[38;5;250m \u001b[39m\u001b[38;5;21;01msrc\u001b[39;00m\u001b[38;5;21;01m.\u001b[39;00m\u001b[38;5;21;01m_translators\u001b[39;00m\u001b[38;5;21;01m.\u001b[39;00m\u001b[38;5;21;01mprettyprint\u001b[39;00m\u001b[38;5;250m \u001b[39m\u001b[38;5;28;01mimport\u001b[39;00m prettyprint\n\u001b[1;32m   1146\u001b[0m \u001b[38;5;28;01mreturn\u001b[39;00m prettyprint(\u001b[38;5;28mself\u001b[39m, wrap)\n",
      "\u001b[0;31mModuleNotFoundError\u001b[0m: No module named 'src._translators'"
     ]
    }
   ],
   "source": [
    "# !poetry add cplex \n",
    "qp = QuadraticProgram()\n",
    "\n",
    "qp.read_from_lp_file(\"data/1/full/docplex-orig.lp\")\n",
    "print(qp.prettyprint())\n",
    "\n",
    "qubit_op, offset = qp.to_ising()\n",
    "print(qubit_op)\n",
    "\n"
   ]
  },
  {
   "cell_type": "code",
   "execution_count": null,
   "id": "31469f00",
   "metadata": {},
   "outputs": [],
   "source": []
  }
 ],
 "metadata": {
  "kernelspec": {
   "display_name": "wiser-optimization-vg-W4LZhpIq-py3.10",
   "language": "python",
   "name": "python3"
  },
  "language_info": {
   "codemirror_mode": {
    "name": "ipython",
    "version": 3
   },
   "file_extension": ".py",
   "mimetype": "text/x-python",
   "name": "python",
   "nbconvert_exporter": "python",
   "pygments_lexer": "ipython3",
   "version": "3.10.18"
  }
 },
 "nbformat": 4,
 "nbformat_minor": 5
}
